{
 "cells": [
  {
   "cell_type": "code",
   "execution_count": 17,
   "metadata": {},
   "outputs": [],
   "source": [
    "import pandas as pd\n",
    "import numpy as np\n",
    "import datetime"
   ]
  },
  {
   "cell_type": "markdown",
   "metadata": {},
   "source": [
    "## 先给数据都加上以月为单位的时间index"
   ]
  },
  {
   "cell_type": "code",
   "execution_count": 18,
   "metadata": {},
   "outputs": [],
   "source": [
    "times = pd.date_range(periods=165, freq='M', end='2020/5')\n",
    "\n",
    "times = times.to_list()\n",
    "times.reverse()\n",
    "\n",
    "times =pd.to_datetime(times)\n",
    "times = times.strftime('%Y-%m')\n",
    "\n",
    "df = pd.read_excel(r'data by month.xlsx')\n",
    "df = df.set_index(times)\n",
    "\n",
    "df.to_excel(r'./1.xlsx')"
   ]
  },
  {
   "cell_type": "markdown",
   "metadata": {},
   "source": [
    "## 对于合并的基准df，需要新增加一列作为排序的标准\n",
    "如果不这样的话，join后的结果顺序会出问题"
   ]
  },
  {
   "cell_type": "code",
   "execution_count": 19,
   "metadata": {},
   "outputs": [],
   "source": [
    "df1 = pd.read_excel(r'./data by week.xlsx', header=1, usecols=range(0,4))\n",
    "\n",
    "tmp = pd.to_datetime(df1[\"时间(该日期所在“周”的煤炭价格)年/月/日\"])\n",
    "tmp = tmp.dt.strftime('%Y-%m-%d')\n",
    "\n",
    "df1[\"时间(该日期所在“周”的煤炭价格)年/月/日\"]= pd.to_datetime(df1[\"时间(该日期所在“周”的煤炭价格)年/月/日\"])\n",
    "df1[\"时间(该日期所在“周”的煤炭价格)年/月/日\"] = df1[\"时间(该日期所在“周”的煤炭价格)年/月/日\"].dt.strftime('%Y-%m')\n",
    "df1['num'] = pd.Series(data=np.arange(0,len(df1)), index=df1.index)\n",
    "df1.set_index(\"时间(该日期所在“周”的煤炭价格)年/月/日\", inplace=True)"
   ]
  },
  {
   "cell_type": "code",
   "execution_count": 20,
   "metadata": {},
   "outputs": [
    {
     "data": {
      "text/html": [
       "<div>\n",
       "<style scoped>\n",
       "    .dataframe tbody tr th:only-of-type {\n",
       "        vertical-align: middle;\n",
       "    }\n",
       "\n",
       "    .dataframe tbody tr th {\n",
       "        vertical-align: top;\n",
       "    }\n",
       "\n",
       "    .dataframe thead th {\n",
       "        text-align: right;\n",
       "    }\n",
       "</style>\n",
       "<table border=\"1\" class=\"dataframe\">\n",
       "  <thead>\n",
       "    <tr style=\"text-align: right;\">\n",
       "      <th></th>\n",
       "      <th>山西</th>\n",
       "      <th>内蒙古</th>\n",
       "      <th>陕西</th>\n",
       "      <th>发电量</th>\n",
       "    </tr>\n",
       "  </thead>\n",
       "  <tbody>\n",
       "    <tr>\n",
       "      <th>2020-04</th>\n",
       "      <td>8595.4</td>\n",
       "      <td>8527.6</td>\n",
       "      <td>5600.6</td>\n",
       "      <td>190.1</td>\n",
       "    </tr>\n",
       "    <tr>\n",
       "      <th>2020-03</th>\n",
       "      <td>9479.4</td>\n",
       "      <td>8906.1</td>\n",
       "      <td>5710.2</td>\n",
       "      <td>201.1</td>\n",
       "    </tr>\n",
       "    <tr>\n",
       "      <th>2020-02</th>\n",
       "      <td>7596.0</td>\n",
       "      <td>8422.0</td>\n",
       "      <td>5490.0</td>\n",
       "      <td>225.0</td>\n",
       "    </tr>\n",
       "  </tbody>\n",
       "</table>\n",
       "</div>"
      ],
      "text/plain": [
       "             山西     内蒙古      陕西    发电量\n",
       "2020-04  8595.4  8527.6  5600.6  190.1\n",
       "2020-03  9479.4  8906.1  5710.2  201.1\n",
       "2020-02  7596.0  8422.0  5490.0  225.0"
      ]
     },
     "execution_count": 20,
     "metadata": {},
     "output_type": "execute_result"
    }
   ],
   "source": [
    "df.head(3)"
   ]
  },
  {
   "cell_type": "code",
   "execution_count": 21,
   "metadata": {},
   "outputs": [
    {
     "data": {
      "text/html": [
       "<div>\n",
       "<style scoped>\n",
       "    .dataframe tbody tr th:only-of-type {\n",
       "        vertical-align: middle;\n",
       "    }\n",
       "\n",
       "    .dataframe tbody tr th {\n",
       "        vertical-align: top;\n",
       "    }\n",
       "\n",
       "    .dataframe thead th {\n",
       "        text-align: right;\n",
       "    }\n",
       "</style>\n",
       "<table border=\"1\" class=\"dataframe\">\n",
       "  <thead>\n",
       "    <tr style=\"text-align: right;\">\n",
       "      <th></th>\n",
       "      <th>价格低值(元/吨)</th>\n",
       "      <th>价格高值(元/吨)</th>\n",
       "      <th>价格平均值(元/吨)</th>\n",
       "      <th>num</th>\n",
       "    </tr>\n",
       "    <tr>\n",
       "      <th>时间(该日期所在“周”的煤炭价格)年/月/日</th>\n",
       "      <th></th>\n",
       "      <th></th>\n",
       "      <th></th>\n",
       "      <th></th>\n",
       "    </tr>\n",
       "  </thead>\n",
       "  <tbody>\n",
       "    <tr>\n",
       "      <th>2020-04</th>\n",
       "      <td>470</td>\n",
       "      <td>480</td>\n",
       "      <td>475.0</td>\n",
       "      <td>0</td>\n",
       "    </tr>\n",
       "    <tr>\n",
       "      <th>2020-04</th>\n",
       "      <td>475</td>\n",
       "      <td>485</td>\n",
       "      <td>480.0</td>\n",
       "      <td>1</td>\n",
       "    </tr>\n",
       "    <tr>\n",
       "      <th>2020-04</th>\n",
       "      <td>490</td>\n",
       "      <td>495</td>\n",
       "      <td>492.5</td>\n",
       "      <td>2</td>\n",
       "    </tr>\n",
       "  </tbody>\n",
       "</table>\n",
       "</div>"
      ],
      "text/plain": [
       "                        价格低值(元/吨)  价格高值(元/吨)  价格平均值(元/吨)  num\n",
       "时间(该日期所在“周”的煤炭价格)年/月/日                                       \n",
       "2020-04                       470        480       475.0    0\n",
       "2020-04                       475        485       480.0    1\n",
       "2020-04                       490        495       492.5    2"
      ]
     },
     "execution_count": 21,
     "metadata": {},
     "output_type": "execute_result"
    }
   ],
   "source": [
    "df1.head(3)"
   ]
  },
  {
   "cell_type": "markdown",
   "metadata": {},
   "source": [
    "## 利用df.join()合并，之后排序"
   ]
  },
  {
   "cell_type": "code",
   "execution_count": 27,
   "metadata": {},
   "outputs": [
    {
     "data": {
      "text/html": [
       "<div>\n",
       "<style scoped>\n",
       "    .dataframe tbody tr th:only-of-type {\n",
       "        vertical-align: middle;\n",
       "    }\n",
       "\n",
       "    .dataframe tbody tr th {\n",
       "        vertical-align: top;\n",
       "    }\n",
       "\n",
       "    .dataframe thead th {\n",
       "        text-align: right;\n",
       "    }\n",
       "</style>\n",
       "<table border=\"1\" class=\"dataframe\">\n",
       "  <thead>\n",
       "    <tr style=\"text-align: right;\">\n",
       "      <th></th>\n",
       "      <th>价格低值(元/吨)</th>\n",
       "      <th>价格高值(元/吨)</th>\n",
       "      <th>价格平均值(元/吨)</th>\n",
       "      <th>山西</th>\n",
       "      <th>内蒙古</th>\n",
       "      <th>陕西</th>\n",
       "      <th>发电量</th>\n",
       "    </tr>\n",
       "    <tr>\n",
       "      <th>时间(该日期所在“周”的煤炭价格)年/月/日</th>\n",
       "      <th></th>\n",
       "      <th></th>\n",
       "      <th></th>\n",
       "      <th></th>\n",
       "      <th></th>\n",
       "      <th></th>\n",
       "      <th></th>\n",
       "    </tr>\n",
       "  </thead>\n",
       "  <tbody>\n",
       "    <tr>\n",
       "      <th>2020-04-30</th>\n",
       "      <td>470</td>\n",
       "      <td>480</td>\n",
       "      <td>475.0</td>\n",
       "      <td>8595.4</td>\n",
       "      <td>8527.6</td>\n",
       "      <td>5600.6</td>\n",
       "      <td>190.1</td>\n",
       "    </tr>\n",
       "    <tr>\n",
       "      <th>2020-04-24</th>\n",
       "      <td>475</td>\n",
       "      <td>485</td>\n",
       "      <td>480.0</td>\n",
       "      <td>8595.4</td>\n",
       "      <td>8527.6</td>\n",
       "      <td>5600.6</td>\n",
       "      <td>190.1</td>\n",
       "    </tr>\n",
       "    <tr>\n",
       "      <th>2020-04-17</th>\n",
       "      <td>490</td>\n",
       "      <td>495</td>\n",
       "      <td>492.5</td>\n",
       "      <td>8595.4</td>\n",
       "      <td>8527.6</td>\n",
       "      <td>5600.6</td>\n",
       "      <td>190.1</td>\n",
       "    </tr>\n",
       "    <tr>\n",
       "      <th>2020-04-10</th>\n",
       "      <td>505</td>\n",
       "      <td>515</td>\n",
       "      <td>510.0</td>\n",
       "      <td>8595.4</td>\n",
       "      <td>8527.6</td>\n",
       "      <td>5600.6</td>\n",
       "      <td>190.1</td>\n",
       "    </tr>\n",
       "    <tr>\n",
       "      <th>2020-04-03</th>\n",
       "      <td>530</td>\n",
       "      <td>535</td>\n",
       "      <td>532.5</td>\n",
       "      <td>8595.4</td>\n",
       "      <td>8527.6</td>\n",
       "      <td>5600.6</td>\n",
       "      <td>190.1</td>\n",
       "    </tr>\n",
       "  </tbody>\n",
       "</table>\n",
       "</div>"
      ],
      "text/plain": [
       "                        价格低值(元/吨)  价格高值(元/吨)  价格平均值(元/吨)      山西     内蒙古  \\\n",
       "时间(该日期所在“周”的煤炭价格)年/月/日                                                     \n",
       "2020-04-30                    470        480       475.0  8595.4  8527.6   \n",
       "2020-04-24                    475        485       480.0  8595.4  8527.6   \n",
       "2020-04-17                    490        495       492.5  8595.4  8527.6   \n",
       "2020-04-10                    505        515       510.0  8595.4  8527.6   \n",
       "2020-04-03                    530        535       532.5  8595.4  8527.6   \n",
       "\n",
       "                            陕西    发电量  \n",
       "时间(该日期所在“周”的煤炭价格)年/月/日                 \n",
       "2020-04-30              5600.6  190.1  \n",
       "2020-04-24              5600.6  190.1  \n",
       "2020-04-17              5600.6  190.1  \n",
       "2020-04-10              5600.6  190.1  \n",
       "2020-04-03              5600.6  190.1  "
      ]
     },
     "execution_count": 27,
     "metadata": {},
     "output_type": "execute_result"
    }
   ],
   "source": [
    "result = df1.join(df)\n",
    "result.sort_values(by='num', ascending=True, inplace=True)\n",
    "result.drop(columns='num', axis=1, inplace=True)\n",
    "result.set_index(tmp, inplace=True)\n",
    "result.to_excel(r'./2.xlsx')\n",
    "result.head()"
   ]
  }
 ],
 "metadata": {
  "interpreter": {
   "hash": "ac59ebe37160ed0dfa835113d9b8498d9f09ceb179beaac4002f036b9467c963"
  },
  "kernelspec": {
   "display_name": "Python 3.9.1 64-bit",
   "language": "python",
   "name": "python3"
  },
  "language_info": {
   "codemirror_mode": {
    "name": "ipython",
    "version": 3
   },
   "file_extension": ".py",
   "mimetype": "text/x-python",
   "name": "python",
   "nbconvert_exporter": "python",
   "pygments_lexer": "ipython3",
   "version": "3.9.1"
  },
  "orig_nbformat": 4
 },
 "nbformat": 4,
 "nbformat_minor": 2
}
